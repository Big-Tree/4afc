{
 "cells": [
  {
   "cell_type": "code",
   "execution_count": 2,
   "metadata": {
    "ExecuteTime": {
     "end_time": "2018-08-14T19:36:06.334568Z",
     "start_time": "2018-08-14T19:36:00.617067Z"
    }
   },
   "outputs": [
    {
     "name": "stdout",
     "output_type": "stream",
     "text": [
      "c95 :  76.96089385474805 %\n",
      "c97 :  82.3636871508383 %\n",
      "c99 :  80.87109826589597 %\n"
     ]
    }
   ],
   "source": [
    "import numpy as np\n",
    "import pandas as pd\n",
    "\n",
    "def readSpreadsheet(path):\n",
    "    xls = pd.ExcelFile(path)\n",
    "    sheet = xls.parse(0)\n",
    "    spreadsheet = {'names':{'backgrounds': [], 'cancers': []}, 'confidences': {'backgrounds': [], 'cancers': []}}\n",
    "    spreadsheet['names']['backgrounds'] = sheet['File name background'].values\n",
    "    spreadsheet['names']['cancers'] = sheet['File name cancer'].values\n",
    "    spreadsheet['confidences']['backgrounds'] = sheet['Confidence of cancer background'].values\n",
    "    spreadsheet['confidences']['cancers'] = sheet['Confidence of cancer cancer'].values\n",
    "    return spreadsheet\n",
    "\n",
    "        \n",
    "def buildDict(spreadsheet):\n",
    "    lesions = {'c95':{'names': [], 'confidences': []}, \n",
    "            'c97':{'names': [], 'confidences': []}, \n",
    "            'c99':{'names': [], 'confidences': []}}\n",
    "    mask = ['C_0.95' in _ for _ in spreadsheet['names']['cancers']]\n",
    "    lesions['c95']['names'] = spreadsheet['names']['cancers'][mask]\n",
    "    lesions['c95']['confidences'] = spreadsheet['confidences']['cancers'][mask]\n",
    "    mask = ['C_0.97' in _ for _ in spreadsheet['names']['cancers']]\n",
    "    lesions['c97']['names'] = spreadsheet['names']['cancers'][mask]\n",
    "    lesions['c97']['confidences'] = spreadsheet['confidences']['cancers'][mask]\n",
    "    mask = ['C_0.99' in _ for _ in spreadsheet['names']['cancers']]\n",
    "    lesions['c99']['names'] = spreadsheet['names']['cancers'][mask]\n",
    "    lesions['c99']['confidences'] = spreadsheet['confidences']['cancers'][mask]\n",
    "    return lesions\n",
    "#     for topKey in lesions:\n",
    "#         for bottomKey in lesions[topKey]:\n",
    "#             print('lesions[', topKey, '][', bottomKey, '].shape: ', lesions[topKey][bottomKey].shape)\n",
    "\n",
    "# Pass in target and background confideces\n",
    "def afc(targets, backgrounds):\n",
    "    correct=[]\n",
    "    for t in targets:\n",
    "        # select 3 random backgrounds\n",
    "        b = backgrounds[np.random.randint(low = 0, high = len(backgrounds), size = (3))]\n",
    "        if False in (t > b):\n",
    "            # Wrong target\n",
    "            correct.append(False)\n",
    "        else:\n",
    "            # Correct target\n",
    "            correct.append(True)\n",
    "    return correct\n",
    "        \n",
    "    \n",
    "def main():\n",
    "    spreadsheet = readSpreadsheet('/vol/vssp/cvpwrkspc01/scratch/wm0015/download2/4afc3.xlsx')\n",
    "    lesions = buildDict(spreadsheet)\n",
    "    folds = 1000\n",
    "    for key in lesions:\n",
    "        tmp = []\n",
    "        for _ in range(folds):\n",
    "            results = afc(lesions[key]['confidences'], spreadsheet['confidences']['backgrounds'])\n",
    "            tmp.append(sum(results)/len(results)*100)\n",
    "        print(key, ': ', sum(tmp)/len(tmp), '%')\n",
    "    \n",
    "    \n",
    "    \n",
    "    \n",
    "#     print(spreadsheet['names']['backgrounds'].shape)\n",
    "#     print(spreadsheet['names']['cancers'].shape)\n",
    "#     print(spreadsheet['confidences']['backgrounds'].shape)\n",
    "#     print(spreadsheet['confidences']['cancers'].shape)    \n",
    "#     print(spreadsheet['names']['backgrounds'])\n",
    "#     print(spreadsheet['names']['cancers'])\n",
    "#     print(spreadsheet['confidences']['backgrounds'])\n",
    "#     print(spreadsheet['confidences']['cancers'])\n",
    "    \n",
    "if __name__ == \"__main__\":\n",
    "    main()"
   ]
  },
  {
   "cell_type": "code",
   "execution_count": null,
   "metadata": {},
   "outputs": [],
   "source": []
  },
  {
   "cell_type": "code",
   "execution_count": null,
   "metadata": {},
   "outputs": [],
   "source": []
  },
  {
   "cell_type": "code",
   "execution_count": null,
   "metadata": {},
   "outputs": [],
   "source": []
  }
 ],
 "metadata": {
  "kernelspec": {
   "display_name": "Python 3",
   "language": "python",
   "name": "python3"
  },
  "language_info": {
   "codemirror_mode": {
    "name": "ipython",
    "version": 3
   },
   "file_extension": ".py",
   "mimetype": "text/x-python",
   "name": "python",
   "nbconvert_exporter": "python",
   "pygments_lexer": "ipython3",
   "version": "3.6.5"
  },
  "varInspector": {
   "cols": {
    "lenName": 16,
    "lenType": 16,
    "lenVar": 40
   },
   "kernels_config": {
    "python": {
     "delete_cmd_postfix": "",
     "delete_cmd_prefix": "del ",
     "library": "var_list.py",
     "varRefreshCmd": "print(var_dic_list())"
    },
    "r": {
     "delete_cmd_postfix": ") ",
     "delete_cmd_prefix": "rm(",
     "library": "var_list.r",
     "varRefreshCmd": "cat(var_dic_list()) "
    }
   },
   "types_to_exclude": [
    "module",
    "function",
    "builtin_function_or_method",
    "instance",
    "_Feature"
   ],
   "window_display": false
  }
 },
 "nbformat": 4,
 "nbformat_minor": 2
}
